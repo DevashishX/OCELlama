{
 "cells": [
  {
   "cell_type": "code",
   "execution_count": 1,
   "metadata": {},
   "outputs": [],
   "source": [
    "import os\n",
    "from dotenv import load_dotenv\n",
    "load_dotenv()\n",
    "HF_APIKEY = os.getenv('HF_APIKEY')\n",
    "\n",
    "repo_id = \"QuantFactory/llama-3-sqlcoder-8b-GGUF\"\n",
    "filename = \"llama-3-sqlcoder-8b.Q4_1.gguf\"\n"
   ]
  },
  {
   "cell_type": "code",
   "execution_count": 2,
   "metadata": {},
   "outputs": [],
   "source": [
    "# from huggingface_hub import hf_hub_download\n",
    "# model_path = hf_hub_download(repo_id=repo_id, \n",
    "#                 filename=filename,\n",
    "#                 local_dir=\"./models\",\n",
    "#                 local_files_only=False)\n",
    "\n"
   ]
  },
  {
   "cell_type": "code",
   "execution_count": null,
   "metadata": {},
   "outputs": [
    {
     "ename": "",
     "evalue": "",
     "output_type": "error",
     "traceback": [
      "\u001b[1;31mThe Kernel crashed while executing code in the current cell or a previous cell. \n",
      "\u001b[1;31mPlease review the code in the cell(s) to identify a possible cause of the failure. \n",
      "\u001b[1;31mClick <a href='https://aka.ms/vscodeJupyterKernelCrash'>here</a> for more info. \n",
      "\u001b[1;31mView Jupyter <a href='command:jupyter.viewOutput'>log</a> for further details."
     ]
    }
   ],
   "source": [
    "# from os.path import abspath\n",
    "# model_path = abspath(model_path)\n",
    "# print(model_path)"
   ]
  },
  {
   "cell_type": "code",
   "execution_count": null,
   "metadata": {},
   "outputs": [
    {
     "data": {
      "application/vnd.jupyter.widget-view+json": {
       "model_id": "5c19376b446243548bab0a57b47f1687",
       "version_major": 2,
       "version_minor": 0
      },
      "text/plain": [
       "llama-3-sqlcoder-8b.Q4_1.gguf:   0%|          | 0.00/5.13G [00:00<?, ?B/s]"
      ]
     },
     "metadata": {},
     "output_type": "display_data"
    },
    {
     "name": "stderr",
     "output_type": "stream",
     "text": [
      "c:\\Users\\devas\\anaconda3\\envs\\llm\\lib\\site-packages\\huggingface_hub\\file_download.py:139: UserWarning: `huggingface_hub` cache-system uses symlinks by default to efficiently store duplicated files but your machine does not support them in C:\\Users\\devas\\.cache\\huggingface\\hub\\models--QuantFactory--llama-3-sqlcoder-8b-GGUF. Caching files will still work but in a degraded version that might require more space on your disk. This warning can be disabled by setting the `HF_HUB_DISABLE_SYMLINKS_WARNING` environment variable. For more details, see https://huggingface.co/docs/huggingface_hub/how-to-cache#limitations.\n",
      "To support symlinks on Windows, you either need to activate Developer Mode or to run Python as an administrator. In order to activate developer mode, see this article: https://docs.microsoft.com/en-us/windows/apps/get-started/enable-your-device-for-development\n",
      "  warnings.warn(message)\n",
      "You are using the default legacy behaviour of the <class 'transformers.models.llama.tokenization_llama_fast.LlamaTokenizerFast'>. This is expected, and simply means that the `legacy` (previous) behavior will be used so nothing changes for you. If you want to use the new behaviour, set `legacy=False`. This should only be set if you understand what it means, and thoroughly read the reason why this was added as explained in https://github.com/huggingface/transformers/pull/24565 - if you loaded a llama tokenizer from a GGUF file you can ignore this message.\n",
      "Converting and de-quantizing GGUF tensors...: 100%|██████████| 291/291 [01:22<00:00,  3.53it/s]\n"
     ]
    }
   ],
   "source": [
    "from transformers import AutoTokenizer, AutoModelForSeq2SeqLM, AutoModelForCausalLM\n",
    "\n",
    "tokenizer = AutoTokenizer.from_pretrained(repo_id, gguf_file=filename)\n",
    "model = AutoModelForCausalLM.from_pretrained(repo_id, gguf_file=filename)\n",
    "# tokenizer.save_pretrained(\"./models\")\n",
    "# model.save_pretrained(\"./models\")\n"
   ]
  },
  {
   "cell_type": "code",
   "execution_count": null,
   "metadata": {},
   "outputs": [],
   "source": [
    "# from huggingface_hub import InferenceClient\n",
    "\n",
    "# client = InferenceClient(token=HF_APIKEY)\n"
   ]
  },
  {
   "cell_type": "code",
   "execution_count": null,
   "metadata": {},
   "outputs": [],
   "source": [
    "# Read DDL from SQL dump file\n",
    "# with open(r\"./university_schema_sanitized.sql\") as file:\n",
    "#     text_data = file.read()\n",
    "#     pass\n"
   ]
  },
  {
   "cell_type": "code",
   "execution_count": null,
   "metadata": {},
   "outputs": [
    {
     "ename": "AttributeError",
     "evalue": "'InferenceClient' object has no attribute 'chat'",
     "output_type": "error",
     "traceback": [
      "\u001b[1;31m---------------------------------------------------------------------------\u001b[0m",
      "\u001b[1;31mAttributeError\u001b[0m                            Traceback (most recent call last)",
      "\u001b[1;32m~\\AppData\\Local\\Temp\\ipykernel_6632\\861869251.py\u001b[0m in \u001b[0;36m<module>\u001b[1;34m\u001b[0m\n\u001b[0;32m     12\u001b[0m ]\n\u001b[0;32m     13\u001b[0m \u001b[1;33m\u001b[0m\u001b[0m\n\u001b[1;32m---> 14\u001b[1;33m stream = client.chat.completions.create(\n\u001b[0m\u001b[0;32m     15\u001b[0m     \u001b[0mmodel\u001b[0m\u001b[1;33m=\u001b[0m\u001b[1;34m\"defog/llama-3-sqlcoder-8b\"\u001b[0m\u001b[1;33m,\u001b[0m\u001b[1;33m\u001b[0m\u001b[1;33m\u001b[0m\u001b[0m\n\u001b[0;32m     16\u001b[0m         \u001b[0mmessages\u001b[0m\u001b[1;33m=\u001b[0m\u001b[0mmessages\u001b[0m\u001b[1;33m,\u001b[0m\u001b[1;33m\u001b[0m\u001b[1;33m\u001b[0m\u001b[0m\n",
      "\u001b[1;31mAttributeError\u001b[0m: 'InferenceClient' object has no attribute 'chat'"
     ]
    }
   ],
   "source": [
    "# messages = [\n",
    "# \t{\n",
    "# \t\t\"role\": \"system\",\n",
    "# \t\t\"content\": \"You are a SQL and Process mining expert. Your job is to take in database schema as input and help the user in creating rows which go in the \\\n",
    "#             event_log table. You will suggest activities which can be added into event_log using combinations of table join and changes to individual tables.\\\n",
    "#                 You will achieve this step by step with user as he asks you for your suggestions.\"\n",
    "# \t},\n",
    "# \t{\n",
    "# \t\t\"role\": \"user\",\n",
    "# \t\t\"content\": text_data\n",
    "# \t}\n",
    "# ]\n",
    "\n",
    "# client.\n",
    "# stream = client.chat.completions.create(\n",
    "#     model=\"defog/llama-3-sqlcoder-8b\", \n",
    "# \tmessages=messages, \n",
    "# \tmax_tokens=500,\n",
    "# \tstream=True\n",
    "# )\n",
    "\n",
    "# for chunk in stream:\n",
    "#     print(chunk.choices[0].delta.content, end=\"\")"
   ]
  }
 ],
 "metadata": {
  "kernelspec": {
   "display_name": "llm",
   "language": "python",
   "name": "python3"
  },
  "language_info": {
   "codemirror_mode": {
    "name": "ipython",
    "version": 3
   },
   "file_extension": ".py",
   "mimetype": "text/x-python",
   "name": "python",
   "nbconvert_exporter": "python",
   "pygments_lexer": "ipython3",
   "version": "3.10.15"
  }
 },
 "nbformat": 4,
 "nbformat_minor": 2
}
