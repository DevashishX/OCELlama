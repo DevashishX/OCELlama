{
 "cells": [
  {
   "cell_type": "code",
   "execution_count": 2,
   "metadata": {},
   "outputs": [
    {
     "name": "stdout",
     "output_type": "stream",
     "text": [
      "<mysql.connector.connection.MySQLConnection object at 0x0000029E7403E548>\n"
     ]
    }
   ],
   "source": [
    "import mysql.connector\n",
    "mydb = mysql.connector.connect(\n",
    "  host=\"localhost\",\n",
    "  user=\"root\",\n",
    "  password=\"devashish\",\n",
    "  database=\"university\"\n",
    ")\n",
    "\n",
    "print(mydb)\n",
    "mycursor = mydb.cursor(buffered=True)\n"
   ]
  },
  {
   "cell_type": "code",
   "execution_count": 3,
   "metadata": {},
   "outputs": [],
   "source": [
    "import mysql.connector.cursor\n",
    "\n",
    "\n",
    "def printall(cursor: mysql.connector.cursor):\n",
    "    if cursor is None:\n",
    "        print(\"curson is None\")\n",
    "        return\n",
    "    if cursor.column_names is not None: print(cursor.column_names)\n",
    "    try:\n",
    "        fetchall = cursor.fetchall()\n",
    "        if fetchall is None:\n",
    "            raise Exception\n",
    "    except Exception as e:\n",
    "        print(f\"Cursor fetched None {e}\")\n",
    "        return\n",
    "    for row in fetchall:\n",
    "        print(row)"
   ]
  },
  {
   "cell_type": "code",
   "execution_count": 4,
   "metadata": {},
   "outputs": [
    {
     "name": "stdout",
     "output_type": "stream",
     "text": [
      "('Tables_in_university',)\n",
      "('advisor',)\n",
      "('classroom',)\n",
      "('concept',)\n",
      "('course',)\n",
      "('department',)\n",
      "('event_log',)\n",
      "('instructor',)\n",
      "('prereq',)\n",
      "('section',)\n",
      "('student',)\n",
      "('takes',)\n",
      "('teaches',)\n",
      "('time_slot',)\n"
     ]
    }
   ],
   "source": [
    "\n",
    "mycursor.execute(\"show tables\")\n",
    "printall(mycursor)"
   ]
  },
  {
   "cell_type": "code",
   "execution_count": 5,
   "metadata": {},
   "outputs": [
    {
     "name": "stdout",
     "output_type": "stream",
     "text": [
      "('ID', 'name', 'dept_name', 'tot_cred', 'timestamp')\n",
      "('00128', 'Zhang', 'Comp. Sci.', Decimal('102'), datetime.datetime(2009, 4, 1, 8, 0))\n",
      "('12345', 'Shankar', 'Comp. Sci.', Decimal('32'), datetime.datetime(2009, 4, 1, 8, 0))\n",
      "('19991', 'Brandt', 'History', Decimal('80'), datetime.datetime(2009, 4, 1, 8, 0))\n",
      "('23121', 'Chavez', 'Finance', Decimal('110'), datetime.datetime(2009, 4, 1, 8, 0))\n",
      "('44553', 'Peltier', 'Physics', Decimal('56'), datetime.datetime(2009, 4, 1, 8, 0))\n",
      "('45678', 'Levy', 'Physics', Decimal('46'), datetime.datetime(2009, 4, 1, 8, 0))\n",
      "('54321', 'Williams', 'Comp. Sci.', Decimal('54'), datetime.datetime(2009, 4, 1, 8, 0))\n",
      "('55739', 'Sanchez', 'Music', Decimal('38'), datetime.datetime(2009, 4, 1, 8, 0))\n",
      "('70557', 'Snow', 'Physics', Decimal('0'), datetime.datetime(2009, 4, 1, 8, 0))\n",
      "('76543', 'Brown', 'Comp. Sci.', Decimal('58'), datetime.datetime(2009, 4, 1, 8, 0))\n"
     ]
    }
   ],
   "source": [
    "mycursor.execute(\"select * from student limit 10;\")\n",
    "printall(mycursor)\n",
    "\n",
    "# mycursor.execute(\"\"\"\\\n",
    "#                  select student.ID as Stud_ID, takes.ID as Takes_ID, name, course_id, semester, year, grade\n",
    "#                   from student join takes ON student.ID = takes.ID limit 10;\n",
    "#                  \"\"\")\n",
    "# printall(mycursor)\n",
    "\n",
    "\n"
   ]
  },
  {
   "cell_type": "code",
   "execution_count": null,
   "metadata": {},
   "outputs": [],
   "source": [
    "# Add timestamps to student table, to indicate enrollment\n",
    "\n",
    "# mycursor.execute(\"ALTER TABLE student DROP COLUMN timestamp\")\n",
    "# mycursor.execute(\"\"\"ALTER TABLE student ADD COLUMN timestamp DATETIME NOT NULL DEFAULT '2009-04-01 08:00:00' AFTER tot_cred\"\"\")\n",
    "# mycursor.execute(\"select * from student;\")\n",
    "# printall(mycursor)"
   ]
  },
  {
   "cell_type": "code",
   "execution_count": null,
   "metadata": {},
   "outputs": [],
   "source": [
    "# Add timestamps to takes table to indicate course gradation\n",
    "# mycursor.execute(\"\"\"SELECT * FROM takes\"\"\")\n",
    "# printall(mycursor)\n",
    "# mycursor.execute(\"\"\"ALTER TABLE takes ADD COLUMN timestamp DATETIME NOT NULL DEFAULT '2010-10-01 20:30:00' AFTER grade\"\"\")\n",
    "mycursor.execute(\"\"\"UPDATE takes\n",
    "                 SET timestamp = '2010-03-31 18:00:00' \n",
    "                 WHERE semester = 'Fall' and year = 2009\"\"\")\n",
    "mycursor.execute(\"\"\"UPDATE takes\n",
    "                 SET timestamp = '2011-03-31 18:00:00' \n",
    "                 WHERE semester = 'Fall' and year = 2010\"\"\")\n",
    "mycursor.execute(\"\"\"UPDATE takes\n",
    "                 SET timestamp = '2009-10-31 18:00:00' \n",
    "                 WHERE (semester = 'Spring' or semester = 'Summer') and year = 2009\"\"\")\n",
    "mycursor.execute(\"\"\"UPDATE takes\n",
    "                 SET timestamp = '2010-10-31 18:00:00' \n",
    "                 WHERE (semester = 'Spring' or semester = 'Summer') and year = 2010\"\"\")\n",
    "mycursor.execute(\"\"\"SELECT * FROM takes\"\"\")\n",
    "printall(mycursor)\n"
   ]
  },
  {
   "cell_type": "code",
   "execution_count": null,
   "metadata": {},
   "outputs": [],
   "source": [
    "# Create concept table\n",
    "# mycursor.execute(\"DROP TABLE IF EXISTS concept\")\n",
    "# mycursor.execute(\"\"\"\\\n",
    "#                     CREATE TABLE concept (\n",
    "#                     ID varchar(20) NOT NULL,\n",
    "#                     type varchar(20) NOT NULL,\n",
    "#                     PRIMARY KEY (ID, type)\n",
    "#                     )\n",
    "#                  \"\"\")\n",
    "mycursor.execute(\"select * from concept\")\n",
    "printall(mycursor)"
   ]
  },
  {
   "cell_type": "code",
   "execution_count": null,
   "metadata": {},
   "outputs": [],
   "source": [
    "# mycursor.execute(\"\"\"INSERT INTO concept\n",
    "#                  SELECT DISTINCT ID, 'student' \n",
    "#                  from student\"\"\")\n"
   ]
  },
  {
   "cell_type": "code",
   "execution_count": null,
   "metadata": {},
   "outputs": [],
   "source": [
    "# mycursor.execute(\"\"\"INSERT INTO concept\n",
    "#                  SELECT DISTINCT ID, 'instructor' \n",
    "#                  from instructor\"\"\")"
   ]
  },
  {
   "cell_type": "code",
   "execution_count": null,
   "metadata": {},
   "outputs": [],
   "source": [
    "# mycursor.execute(\"\"\"INSERT INTO concept\n",
    "#                  SELECT DISTINCT sec_id, 'section' \n",
    "#                  from section\"\"\")"
   ]
  },
  {
   "cell_type": "code",
   "execution_count": null,
   "metadata": {},
   "outputs": [],
   "source": [
    "# mycursor.execute(\"\"\"INSERT INTO concept\n",
    "#                  SELECT DISTINCT dept_name, 'department' \n",
    "#                  from department\"\"\")"
   ]
  },
  {
   "cell_type": "code",
   "execution_count": null,
   "metadata": {},
   "outputs": [],
   "source": [
    "# mydb.commit()"
   ]
  },
  {
   "cell_type": "code",
   "execution_count": null,
   "metadata": {},
   "outputs": [],
   "source": [
    "# Create OCEL table\n",
    "mycursor.execute(\"DROP TABLE IF EXISTS event_log\")\n",
    "mycursor.execute(\"\"\"CREATE TABLE event_log (\n",
    "                 event_id INT NOT NULL AUTO_INCREMENT,\n",
    "                 activity VARCHAR(20) NOT NULL,\n",
    "                 timestamp DATETIME NOT NULL DEFAULT '2010-10-01 00:30:00',\n",
    "                 student_id VARCHAR(20),\n",
    "                 instructor_id VARCHAR(20),\n",
    "                 section_id varchar(20),\n",
    "                 course_id varchar(20),\n",
    "                 department_id VARCHAR(20),\n",
    "                 PRIMARY KEY (event_id)\n",
    "                 )\n",
    "                 \"\"\")\n",
    "mycursor.execute(\"\"\"SELECT * FROM event_log\"\"\")\n",
    "printall(mycursor)"
   ]
  },
  {
   "cell_type": "code",
   "execution_count": null,
   "metadata": {},
   "outputs": [],
   "source": [
    "# Create Student<>Course Events\n",
    "# Course Enrolled\n",
    "# Course Passed\n",
    "# Course Failed\n",
    "\n",
    "# Course_enrolled v1\n",
    "# mycursor.execute(\"\"\"INSERT INTO\n",
    "#                  event_log (activity, timestamp, student_id, section_id, course_id)\n",
    "#                  SELECT 'course_enrolled', '2009-11-01 08:30:00', ID, sec_id, course_id\n",
    "#                  FROM takes\n",
    "#                  WHERE semester = 'Fall' and year = 2009\"\"\")\n",
    "\n",
    "mycursor.execute(\"\"\"INSERT INTO\n",
    "                 event_log (activity, timestamp, student_id, section_id, course_id, department_id, instructor_id)\n",
    "                 SELECT 'course_enrolled', '2009-11-01 08:30:00', ID, sec_id, course_id,\n",
    "                 (select dept_name from course where takes.course_id = course.course_id),\n",
    "                 (select teaches.ID from teaches where takes.course_id = teaches.course_ID AND takes.sec_id = teaches.sec_id AND takes.semester = teaches.semester AND takes.year = teaches.year)\n",
    "                 FROM takes\n",
    "                 WHERE semester = 'Fall' and year = 2009\"\"\")\n",
    "mycursor.execute(\"\"\"INSERT INTO\n",
    "                 event_log (activity, timestamp, student_id, section_id, course_id, department_id, instructor_id)\n",
    "                 SELECT 'course_enrolled', '2010-11-01 08:30:00', ID, sec_id, course_id,\n",
    "                 (select dept_name from course where takes.course_id = course.course_id),\n",
    "                 (select teaches.ID from teaches where takes.course_id = teaches.course_ID AND takes.sec_id = teaches.sec_id AND takes.semester = teaches.semester AND takes.year = teaches.year)\n",
    "                 FROM takes\n",
    "                 WHERE semester = 'Fall' and year = 2010\"\"\")\n",
    "mycursor.execute(\"\"\"INSERT INTO\n",
    "                 event_log (activity, timestamp, student_id, section_id, course_id, department_id, instructor_id)\n",
    "                 SELECT 'course_enrolled', '2009-04-01 08:30:00', ID, sec_id, course_id,\n",
    "                 (select dept_name from course where takes.course_id = course.course_id),\n",
    "                 (select teaches.ID from teaches where takes.course_id = teaches.course_ID AND takes.sec_id = teaches.sec_id AND takes.semester = teaches.semester AND takes.year = teaches.year)\n",
    "                 FROM takes\n",
    "                 WHERE (semester = 'Spring' or semester = 'Summer') and year = 2009\"\"\")\n",
    "mycursor.execute(\"\"\"INSERT INTO\n",
    "                 event_log (activity, timestamp, student_id, section_id, course_id, department_id, instructor_id)\n",
    "                 SELECT 'course_enrolled', '2010-04-01 08:30:00', ID, sec_id, course_id,\n",
    "                 (select dept_name from course where takes.course_id = course.course_id),\n",
    "                 (select teaches.ID from teaches where takes.course_id = teaches.course_ID AND takes.sec_id = teaches.sec_id AND takes.semester = teaches.semester AND takes.year = teaches.year)\n",
    "                 FROM takes\n",
    "                 WHERE (semester = 'Spring' or semester = 'Summer') and year = 2010\"\"\")\n",
    "# mycursor.execute(\"\"\"SELECT * FROM event_log where event_id > 9 and event_id < 20\"\"\")\n",
    "mycursor.execute(\"\"\"SELECT count(*) FROM event_log\"\"\")\n",
    "printall(mycursor)\n",
    "mycursor.execute(\"\"\"SELECT * FROM event_log ORDER BY event_id DESC Limit 5\"\"\")\n",
    "printall(mycursor)"
   ]
  },
  {
   "cell_type": "code",
   "execution_count": null,
   "metadata": {},
   "outputs": [],
   "source": [
    "# Course Passed v1\n",
    "# mycursor.execute(\"\"\"INSERT INTO\n",
    "#                  event_log (activity, timestamp, student_id, section_id, course_id,)\n",
    "#                  SELECT 'course_passed', timestamp, ID, sec_id, course_id\n",
    "#                  FROM takes\n",
    "#                  WHERE grade != 'F' AND grade IS NOT NULL\"\"\")\n",
    "# Course Passed v2\n",
    "mycursor.execute(\"\"\"INSERT INTO\n",
    "                 event_log (activity, timestamp, student_id, section_id, course_id, department_id, instructor_id)\n",
    "                 SELECT 'course_passed', timestamp, ID, sec_id, course_id, \n",
    "                 (select dept_name from course where takes.course_id = course.course_id),\n",
    "                 (select teaches.ID from teaches where takes.course_id = teaches.course_ID AND takes.sec_id = teaches.sec_id AND takes.semester = teaches.semester AND takes.year = teaches.year)\n",
    "                 FROM takes\n",
    "                 WHERE grade != 'F' AND grade IS NOT NULL\"\"\")\n",
    "# Course Failed\n",
    "mycursor.execute(\"\"\"INSERT INTO\n",
    "                 event_log (activity, timestamp, student_id, section_id, course_id, department_id, instructor_id)\n",
    "                 SELECT 'course_failed', timestamp, ID, sec_id, course_id, \n",
    "                 (select dept_name from course where takes.course_id = course.course_id),\n",
    "                 (select teaches.ID from teaches where takes.course_id = teaches.course_ID AND takes.sec_id = teaches.sec_id AND takes.semester = teaches.semester AND takes.year = teaches.year)\n",
    "                 FROM takes\n",
    "                 WHERE grade = 'F'\"\"\")\n",
    "# mycursor.execute(\"\"\"SELECT * FROM event_log where event_id > 9 and event_id < 20\"\"\")\n",
    "mycursor.execute(\"\"\"SELECT count(*) FROM event_log\"\"\")\n",
    "printall(mycursor)\n",
    "mycursor.execute(\"\"\"SELECT * FROM event_log ORDER BY event_id DESC Limit 5\"\"\")\n",
    "printall(mycursor)"
   ]
  },
  {
   "cell_type": "code",
   "execution_count": null,
   "metadata": {},
   "outputs": [],
   "source": [
    "# advisor_assigned\n",
    "# mycursor.execute(\"\"\"ALTER TABLE advisor ADD COLUMN timestamp DATETIME NOT NULL DEFAULT '2009-04-30 08:30:00' AFTER i_ID\"\"\")\n",
    "\n",
    "mycursor.execute(\"\"\"INSERT INTO\n",
    "                 event_log (activity, timestamp, student_id, instructor_id)\n",
    "                 SELECT 'advisor_assigned', timestamp, s_ID, i_ID\n",
    "                 FROM advisor\n",
    "                 \"\"\")"
   ]
  },
  {
   "cell_type": "code",
   "execution_count": null,
   "metadata": {},
   "outputs": [],
   "source": [
    "# Student enrolled\n",
    "mycursor.execute(\"\"\"INSERT INTO\n",
    "                 event_log (activity, timestamp, student_id, department_id)\n",
    "                 SELECT 'student_enrolled', timestamp, student.ID, dept_name\n",
    "                 FROM student\n",
    "                 \"\"\")\n",
    "# Student graduated\n",
    "# This query is techincally incorrrect because you should choose the timestamp which has the latest value,\n",
    "# but we only choose one distinct timestamp because the mocked timestamps are equal\n",
    "mycursor.execute(\"\"\"INSERT INTO\n",
    "                 event_log (activity, timestamp, student_id, department_id, instructor_id)\n",
    "                 SELECT DISTINCT 'student_graduated', takes.timestamp, student.ID, student.dept_name,\n",
    "                 (select i_ID from advisor where student.ID = advisor.s_ID)\n",
    "                 FROM student JOIN takes\n",
    "                 ON student.ID = takes.ID\n",
    "                 WHERE tot_cred >= 100 AND grade != 'F' and grade IS NOT NULL\n",
    "\n",
    "                 \"\"\")\n",
    "mycursor.execute(\"\"\"SELECT count(*) FROM event_log\"\"\")\n",
    "printall(mycursor)\n",
    "mycursor.execute(\"\"\"SELECT * FROM event_log WHERE activity = 'student_graduated' ORDER BY event_id DESC\"\"\")\n",
    "printall(mycursor)"
   ]
  },
  {
   "cell_type": "code",
   "execution_count": null,
   "metadata": {},
   "outputs": [],
   "source": [
    "mycursor.execute(\"\"\"SELECT count(*) FROM event_log\"\"\")\n",
    "printall(mycursor)\n",
    "mycursor.execute(\"\"\"SELECT DISTINCT activity FROM event_log\"\"\")\n",
    "printall(mycursor)\n",
    "mycursor.execute(\"\"\"SELECT * FROM event_log\"\"\")\n",
    "printall(mycursor)\n",
    "mycursor.execute(\"\"\"SELECT count(*) FROM concept\"\"\")\n",
    "printall(mycursor)\n",
    "mycursor.execute(\"\"\"SELECT * FROM concept\"\"\")\n",
    "printall(mycursor)"
   ]
  },
  {
   "cell_type": "code",
   "execution_count": null,
   "metadata": {},
   "outputs": [],
   "source": [
    "mycursor.execute(\"\"\"SELECT count(*) FROM event_log where student_id = '00128'\"\"\")\n",
    "printall(mycursor)\n",
    "mycursor.execute(\"\"\"SELECT * FROM event_log where student_id = '00128' ORDER BY timestamp ASC\"\"\")\n",
    "printall(mycursor)"
   ]
  },
  {
   "cell_type": "code",
   "execution_count": null,
   "metadata": {},
   "outputs": [],
   "source": [
    "mycursor.execute(\"\"\"SELECT count(*) FROM event_log where instructor_id = '45565'\"\"\")\n",
    "printall(mycursor)\n",
    "mycursor.execute(\"\"\"SELECT * FROM event_log where instructor_id = '45565' ORDER BY timestamp ASC\"\"\")\n",
    "printall(mycursor)"
   ]
  },
  {
   "cell_type": "code",
   "execution_count": null,
   "metadata": {},
   "outputs": [],
   "source": [
    "# mydb.commit()"
   ]
  }
 ],
 "metadata": {
  "kernelspec": {
   "display_name": "llm",
   "language": "python",
   "name": "python3"
  },
  "language_info": {
   "codemirror_mode": {
    "name": "ipython",
    "version": 3
   },
   "file_extension": ".py",
   "mimetype": "text/x-python",
   "name": "python",
   "nbconvert_exporter": "python",
   "pygments_lexer": "ipython3",
   "version": "3.7.16"
  }
 },
 "nbformat": 4,
 "nbformat_minor": 2
}
